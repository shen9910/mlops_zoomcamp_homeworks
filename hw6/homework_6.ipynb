{
 "cells": [
  {
   "cell_type": "markdown",
   "id": "60ef950f",
   "metadata": {},
   "source": [
    "## Q1. \n",
    "\n",
    "``` \n",
    "if __name__ == \"__main__\":\n",
    "    year = int(sys.argv[1])\n",
    "    month = int(sys.argv[2])\n",
    "    main(year, month)\n",
    "```"
   ]
  },
  {
   "cell_type": "code",
   "execution_count": 2,
   "id": "f8754ee8",
   "metadata": {},
   "outputs": [
    {
     "name": "stdout",
     "output_type": "stream",
     "text": [
      "predicted mean duration: 16.191691679979066\n",
      "'taxi_type=fhv_year=2021_month=02.parquet'\n"
     ]
    }
   ],
   "source": [
    "! python batch.py 2021 2\n",
    "! ls taxi_type*"
   ]
  },
  {
   "cell_type": "markdown",
   "id": "20c3a075",
   "metadata": {},
   "source": [
    "## Q2."
   ]
  },
  {
   "cell_type": "code",
   "execution_count": 3,
   "id": "e772cb8f",
   "metadata": {},
   "outputs": [
    {
     "name": "stdout",
     "output_type": "stream",
     "text": [
      "__init__.py  __pycache__  test_batch.py\r\n"
     ]
    }
   ],
   "source": [
    "! ls tests"
   ]
  },
  {
   "cell_type": "markdown",
   "id": "071eba8a",
   "metadata": {},
   "source": [
    "## Q3.\n",
    "Ans.: 2 rows"
   ]
  },
  {
   "cell_type": "code",
   "execution_count": 4,
   "id": "81b19cd6",
   "metadata": {},
   "outputs": [
    {
     "name": "stdout",
     "output_type": "stream",
     "text": [
      "\u001b[1m============================= test session starts ==============================\u001b[0m\n",
      "platform linux -- Python 3.9.12, pytest-7.1.1, pluggy-1.0.0\n",
      "rootdir: /home/slava/mlops_zoomcamp/mlops_zoomcamp_homeworks/hw6\n",
      "plugins: anyio-3.5.0\n",
      "collected 1 item                                                               \u001b[0m\n",
      "\n",
      "tests/test_batch.py \u001b[32m.\u001b[0m\u001b[32m                                                    [100%]\u001b[0m\n",
      "\n",
      "\u001b[32m============================== \u001b[32m\u001b[1m1 passed\u001b[0m\u001b[32m in 0.23s\u001b[0m\u001b[32m ===============================\u001b[0m\n"
     ]
    }
   ],
   "source": [
    "! pytest tests/"
   ]
  },
  {
   "cell_type": "markdown",
   "id": "4e2d3763",
   "metadata": {},
   "source": [
    "## Q4."
   ]
  },
  {
   "cell_type": "code",
   "execution_count": 1,
   "id": "b198efbd",
   "metadata": {},
   "outputs": [
    {
     "name": "stdout",
     "output_type": "stream",
     "text": [
      "2022-07-27 13:09:40 user-uploads\r\n",
      "2022-07-27 13:10:18 nyc-duration\r\n"
     ]
    }
   ],
   "source": [
    "! export AWS_ACCESS_KEY_ID=foobar\n",
    "! export AWS_SECRET_ACCESS_KEY=foobar\n",
    "! aws --endpoint-url http://localhost:4566 s3 ls"
   ]
  },
  {
   "cell_type": "markdown",
   "id": "09771ec7",
   "metadata": {},
   "source": [
    "## Q5."
   ]
  },
  {
   "cell_type": "code",
   "execution_count": 11,
   "id": "9dab2338",
   "metadata": {},
   "outputs": [
    {
     "name": "stdout",
     "output_type": "stream",
     "text": [
      "2022-07-27 13:09:40 user-uploads\r\n",
      "2022-07-27 13:10:18 nyc-duration\r\n"
     ]
    }
   ],
   "source": [
    "! aws --endpoint-url http://localhost:4566/ s3 ls"
   ]
  },
  {
   "cell_type": "code",
   "execution_count": 12,
   "id": "00c67649",
   "metadata": {},
   "outputs": [
    {
     "name": "stdout",
     "output_type": "stream",
     "text": [
      "2022-07-27 13:54:31       3504 2021-01.parquet\r\n",
      "2022-07-27 13:41:31   19607729 2021-02.parquet\r\n"
     ]
    }
   ],
   "source": [
    "! aws --endpoint-url http://localhost:4566 s3 ls s3://nyc-duration/in/"
   ]
  },
  {
   "cell_type": "markdown",
   "id": "260ff199",
   "metadata": {},
   "source": [
    "## Q6."
   ]
  },
  {
   "cell_type": "code",
   "execution_count": 14,
   "id": "969a4ea9",
   "metadata": {},
   "outputs": [
    {
     "name": "stdout",
     "output_type": "stream",
     "text": [
      "2022-07-27 14:09:22       1970 2021-01.parquet\r\n",
      "2022-07-27 13:42:06   19711507 2021-02.parquet\r\n"
     ]
    }
   ],
   "source": [
    "! aws --endpoint-url http://localhost:4566 s3 ls s3://nyc-duration/out/"
   ]
  },
  {
   "cell_type": "markdown",
   "id": "3016075b",
   "metadata": {},
   "source": [
    "``` \n",
    "python integration_test.py \n",
    "predicted mean duration: 34.64434841620357\n",
    "s3://nyc-duration/out/2021-01.parquet\n",
    "Sum of predicted duration 69.28869683240714\n",
    "```"
   ]
  },
  {
   "cell_type": "code",
   "execution_count": null,
   "id": "938ca426",
   "metadata": {},
   "outputs": [],
   "source": []
  }
 ],
 "metadata": {
  "kernelspec": {
   "display_name": "Python 3 (ipykernel)",
   "language": "python",
   "name": "python3"
  },
  "language_info": {
   "codemirror_mode": {
    "name": "ipython",
    "version": 3
   },
   "file_extension": ".py",
   "mimetype": "text/x-python",
   "name": "python",
   "nbconvert_exporter": "python",
   "pygments_lexer": "ipython3",
   "version": "3.9.12"
  }
 },
 "nbformat": 4,
 "nbformat_minor": 5
}
