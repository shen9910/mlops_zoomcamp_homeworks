{
 "cells": [
  {
   "cell_type": "markdown",
   "id": "6d06900d",
   "metadata": {},
   "source": [
    "## Q1.\n",
    "Answer: ``` train_model ```"
   ]
  },
  {
   "cell_type": "markdown",
   "id": "d74a39e0",
   "metadata": {},
   "source": [
    "## Q2.\n",
    "Answer:  The MSE of validation is:  ``` 11.637032592836986 ```"
   ]
  },
  {
   "cell_type": "markdown",
   "id": "f2209de6",
   "metadata": {},
   "source": [
    "## Q3"
   ]
  },
  {
   "cell_type": "code",
   "execution_count": 4,
   "id": "ea0c94aa",
   "metadata": {},
   "outputs": [
    {
     "name": "stdout",
     "output_type": "stream",
     "text": [
      "13191\tmodels/dv-2021-08-15.bin\r\n"
     ]
    }
   ],
   "source": [
    "! du -b \"models/dv-2021-08-15.bin\""
   ]
  },
  {
   "cell_type": "markdown",
   "id": "2f608813",
   "metadata": {},
   "source": [
    "Answer:  ``` 13,000 bytes ```"
   ]
  },
  {
   "cell_type": "markdown",
   "id": "1bd2b29a",
   "metadata": {},
   "source": [
    "## Q4\n",
    "I installed ``` pip install cron-descriptor ```"
   ]
  },
  {
   "cell_type": "code",
   "execution_count": 9,
   "id": "6dc8d315",
   "metadata": {},
   "outputs": [
    {
     "name": "stdout",
     "output_type": "stream",
     "text": [
      "At 09:00 AM, on day 15 of the month\n"
     ]
    }
   ],
   "source": [
    "from cron_descriptor import get_description\n",
    "\n",
    "print(get_description(\"0 9 15 * *\"))"
   ]
  },
  {
   "cell_type": "markdown",
   "id": "c8784175",
   "metadata": {},
   "source": [
    "Answer: ``` \"0 9 15 * *\" ```"
   ]
  },
  {
   "cell_type": "markdown",
   "id": "1cd2196b",
   "metadata": {},
   "source": [
    " ## Q5\n",
    " Answer: ```3```"
   ]
  },
  {
   "cell_type": "markdown",
   "id": "d51f3b16",
   "metadata": {},
   "source": [
    "## Q6"
   ]
  },
  {
   "cell_type": "code",
   "execution_count": 12,
   "id": "321e1ded",
   "metadata": {},
   "outputs": [
    {
     "name": "stdout",
     "output_type": "stream",
     "text": [
      "\u001b[3m                            Work Queues                            \u001b[0m\r\n",
      "┏━━━━━━━━━━━━━━━━━━━━━━━━━━━━━━━━━━━━━━┳━━━━━━┳━━━━━━━━━━━━━━━━━━━┓\r\n",
      "┃\u001b[1m \u001b[0m\u001b[1m                                  ID\u001b[0m\u001b[1m \u001b[0m┃\u001b[1m \u001b[0m\u001b[1mName\u001b[0m\u001b[1m \u001b[0m┃\u001b[1m \u001b[0m\u001b[1mConcurrency Limit\u001b[0m\u001b[1m \u001b[0m┃\r\n",
      "┡━━━━━━━━━━━━━━━━━━━━━━━━━━━━━━━━━━━━━━╇━━━━━━╇━━━━━━━━━━━━━━━━━━━┩\r\n",
      "│\u001b[36m \u001b[0m\u001b[36mda72baca-366b-4725-9643-0d2485074ce1\u001b[0m\u001b[36m \u001b[0m│\u001b[32m \u001b[0m\u001b[32mmy-q\u001b[0m\u001b[32m \u001b[0m│\u001b[34m \u001b[0m\u001b[34mNone\u001b[0m\u001b[34m             \u001b[0m\u001b[34m \u001b[0m│\r\n",
      "└──────────────────────────────────────┴──────┴───────────────────┘\r\n",
      "\u001b[31m                    (**) denotes a paused queue                    \u001b[0m\r\n"
     ]
    }
   ],
   "source": [
    "! prefect work-queue ls"
   ]
  },
  {
   "cell_type": "markdown",
   "id": "1f8a9e22",
   "metadata": {},
   "source": [
    "Answer: ``` prefect work-queue ls ```"
   ]
  },
  {
   "cell_type": "code",
   "execution_count": null,
   "id": "e01c482d",
   "metadata": {},
   "outputs": [],
   "source": []
  }
 ],
 "metadata": {
  "kernelspec": {
   "display_name": "Python 3 (ipykernel)",
   "language": "python",
   "name": "python3"
  },
  "language_info": {
   "codemirror_mode": {
    "name": "ipython",
    "version": 3
   },
   "file_extension": ".py",
   "mimetype": "text/x-python",
   "name": "python",
   "nbconvert_exporter": "python",
   "pygments_lexer": "ipython3",
   "version": "3.9.12"
  }
 },
 "nbformat": 4,
 "nbformat_minor": 5
}
