{
 "cells": [
  {
   "cell_type": "markdown",
   "id": "6739b76f",
   "metadata": {},
   "source": [
    "## Q1."
   ]
  },
  {
   "cell_type": "code",
   "execution_count": 5,
   "id": "38f1f230",
   "metadata": {},
   "outputs": [
    {
     "name": "stdout",
     "output_type": "stream",
     "text": [
      "mlflow, version 1.26.1\r\n"
     ]
    }
   ],
   "source": [
    "! mlflow --version"
   ]
  },
  {
   "cell_type": "markdown",
   "id": "22c3e9c0",
   "metadata": {},
   "source": [
    "## Q2."
   ]
  },
  {
   "cell_type": "code",
   "execution_count": 6,
   "id": "058cddff",
   "metadata": {},
   "outputs": [],
   "source": [
    "! python preprocess_data.py --raw_data_path data --dest_path output"
   ]
  },
  {
   "cell_type": "code",
   "execution_count": 10,
   "id": "5c32bb14",
   "metadata": {},
   "outputs": [
    {
     "name": "stdout",
     "output_type": "stream",
     "text": [
      "Number of files saved in output folder: 4\n"
     ]
    }
   ],
   "source": [
    "import os\n",
    "print(f'Number of files saved in output folder: {len(os.listdir(\"output/\"))}')"
   ]
  },
  {
   "cell_type": "markdown",
   "id": "1195faec",
   "metadata": {},
   "source": [
    "## Q3."
   ]
  },
  {
   "cell_type": "code",
   "execution_count": 11,
   "id": "ef30f9ab",
   "metadata": {},
   "outputs": [
    {
     "name": "stdout",
     "output_type": "stream",
     "text": [
      "2022/05/30 16:50:01 INFO mlflow.tracking.fluent: Experiment with name 'mlops-hw2' does not exist. Creating a new experiment.\n",
      "2022/05/30 16:50:13 WARNING mlflow.utils.autologging_utils: MLflow autologging encountered a warning: \"/home/slava/anaconda3/envs/exp-tracking-env/lib/python3.9/site-packages/_distutils_hack/__init__.py:30: UserWarning: Setuptools is replacing distutils.\"\n",
      "2022/05/30 16:50:15 WARNING mlflow.utils.autologging_utils: Encountered unexpected error during sklearn autologging: Unable to locate credentials\n"
     ]
    }
   ],
   "source": [
    "! python train.py"
   ]
  },
  {
   "cell_type": "code",
   "execution_count": 12,
   "id": "ac38950d",
   "metadata": {},
   "outputs": [],
   "source": [
    "import mlflow\n",
    "client = mlflow.tracking.MlflowClient()\n",
    "exp = client.get_experiment_by_name(\"mlops-hw2\")"
   ]
  },
  {
   "cell_type": "code",
   "execution_count": 14,
   "id": "cf0ade3d",
   "metadata": {},
   "outputs": [
    {
     "data": {
      "text/plain": [
       "'27'"
      ]
     },
     "execution_count": 14,
     "metadata": {},
     "output_type": "execute_result"
    }
   ],
   "source": [
    "exp.experiment_id"
   ]
  },
  {
   "cell_type": "code",
   "execution_count": 15,
   "id": "6b17daa8",
   "metadata": {},
   "outputs": [],
   "source": [
    "runs = client.search_runs(27)"
   ]
  },
  {
   "cell_type": "code",
   "execution_count": 21,
   "id": "21b8154f",
   "metadata": {},
   "outputs": [
    {
     "name": "stdout",
     "output_type": "stream",
     "text": [
      "Number of parameters are automatically logged by MLflow: 17\n"
     ]
    }
   ],
   "source": [
    "print(f'Number of parameters are automatically logged by MLflow: {len(runs[0].data.params)}')"
   ]
  },
  {
   "cell_type": "markdown",
   "id": "c5824a27",
   "metadata": {},
   "source": [
    "## Q4."
   ]
  },
  {
   "cell_type": "code",
   "execution_count": 24,
   "id": "76d6a56d",
   "metadata": {},
   "outputs": [
    {
     "name": "stdout",
     "output_type": "stream",
     "text": [
      "Option 'default-artifact-root' is required when backend store is not local file based.\r\n",
      "Usage: mlflow server [OPTIONS]\r\n",
      "Try 'mlflow server --help' for help.\r\n",
      "\r\n",
      "Error: Option 'default-artifact-root' is required when backend store is not local file based.\r\n"
     ]
    }
   ],
   "source": [
    "!mlflow server --backend-store-uri \"sqlite:///mlflow.db\""
   ]
  },
  {
   "cell_type": "markdown",
   "id": "7a8c938e",
   "metadata": {},
   "source": [
    "This command was used to run server locally: \\\n",
    "``mlflow server --host localhost:6677  --backend-store-uri \"sqlite:///mlflow.db\" --default-artifact-root \"./artifacts\"``"
   ]
  },
  {
   "cell_type": "markdown",
   "id": "90543331",
   "metadata": {},
   "source": [
    "## Q5."
   ]
  },
  {
   "cell_type": "code",
   "execution_count": 26,
   "id": "ab460c14",
   "metadata": {},
   "outputs": [
    {
     "name": "stdout",
     "output_type": "stream",
     "text": [
      "100%|█████████| 50/50 [03:46<00:00,  4.53s/trial, best loss: 6.6284257482044735]\n"
     ]
    }
   ],
   "source": [
    "!python hpo.py"
   ]
  },
  {
   "cell_type": "markdown",
   "id": "919224b9",
   "metadata": {},
   "source": [
    "As written above, best loss is **6.628**"
   ]
  },
  {
   "cell_type": "markdown",
   "id": "db35da00",
   "metadata": {},
   "source": [
    "## Q6."
   ]
  },
  {
   "cell_type": "code",
   "execution_count": 27,
   "id": "6c79602a",
   "metadata": {},
   "outputs": [
    {
     "name": "stdout",
     "output_type": "stream",
     "text": [
      "2022/05/30 17:26:55 INFO mlflow.tracking.fluent: Experiment with name 'random-forest-best-models' does not exist. Creating a new experiment.\n",
      "2022/05/30 17:27:04 WARNING mlflow.utils.autologging_utils: MLflow autologging encountered a warning: \"/home/slava/anaconda3/envs/exp-tracking-env/lib/python3.9/site-packages/_distutils_hack/__init__.py:30: UserWarning: Setuptools is replacing distutils.\"\n",
      "Successfully registered model 'best_model'.\n",
      "2022/05/30 17:27:43 INFO mlflow.tracking._model_registry.client: Waiting up to 300 seconds for model version to finish creation.                     Model name: best_model, version 1\n",
      "Created version '1' of model 'best_model'.\n"
     ]
    }
   ],
   "source": [
    "! python register_model.py"
   ]
  },
  {
   "cell_type": "code",
   "execution_count": 33,
   "id": "88913303",
   "metadata": {},
   "outputs": [],
   "source": [
    "from mlflow.entities import ViewType\n",
    "\n",
    "mlflow.set_tracking_uri(\"http://localhost:6677\")\n",
    "EXPERIMENT_NAME = \"random-forest-best-models\"\n",
    "client = mlflow.tracking.MlflowClient()\n",
    "experiment = client.get_experiment_by_name(EXPERIMENT_NAME)"
   ]
  },
  {
   "cell_type": "code",
   "execution_count": 34,
   "id": "16f41e8a",
   "metadata": {},
   "outputs": [],
   "source": [
    "best_run = client.search_runs( experiment_ids=experiment.experiment_id,\n",
    "        run_view_type=ViewType.ACTIVE_ONLY,\n",
    "        max_results=1,\n",
    "        order_by=[\"metrics.test_rmse ASC\"] )[0]"
   ]
  },
  {
   "cell_type": "code",
   "execution_count": 44,
   "id": "6a412206",
   "metadata": {},
   "outputs": [
    {
     "name": "stdout",
     "output_type": "stream",
     "text": [
      " RMSE on test:6.547886185595423\n"
     ]
    }
   ],
   "source": [
    "print(f' RMSE on test:{ best_run.data.metrics[\"test_rmse\"] }')"
   ]
  },
  {
   "cell_type": "code",
   "execution_count": null,
   "id": "5c88473e",
   "metadata": {},
   "outputs": [],
   "source": []
  }
 ],
 "metadata": {
  "kernelspec": {
   "display_name": "Python 3 (ipykernel)",
   "language": "python",
   "name": "python3"
  },
  "language_info": {
   "codemirror_mode": {
    "name": "ipython",
    "version": 3
   },
   "file_extension": ".py",
   "mimetype": "text/x-python",
   "name": "python",
   "nbconvert_exporter": "python",
   "pygments_lexer": "ipython3",
   "version": "3.9.12"
  }
 },
 "nbformat": 4,
 "nbformat_minor": 5
}
