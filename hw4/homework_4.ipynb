{
 "cells": [
  {
   "cell_type": "markdown",
   "id": "38e1654f",
   "metadata": {},
   "source": [
    "## Q1."
   ]
  },
  {
   "cell_type": "code",
   "execution_count": 1,
   "id": "d2157a92",
   "metadata": {},
   "outputs": [],
   "source": [
    "import pickle\n",
    "import pandas as pd\n",
    "\n",
    "with open('model.bin', 'rb') as f_in:\n",
    "    dv, lr = pickle.load(f_in)\n",
    "\n",
    "categorical = ['PUlocationID', 'DOlocationID']\n",
    "\n",
    "def read_data(filename):\n",
    "    df = pd.read_parquet(filename)\n",
    "    \n",
    "    df['duration'] = df.dropOff_datetime - df.pickup_datetime\n",
    "    df['duration'] = df.duration.dt.total_seconds() / 60\n",
    "\n",
    "    df = df[(df.duration >= 1) & (df.duration <= 60)].copy()\n",
    "\n",
    "    df[categorical] = df[categorical].fillna(-1).astype('int').astype('str')\n",
    "    \n",
    "    return df\n",
    "\n",
    "df = read_data('https://nyc-tlc.s3.amazonaws.com/trip+data/fhv_tripdata_2021-02.parquet')\n",
    "\n",
    "dicts = df[categorical].to_dict(orient='records')\n",
    "X_val = dv.transform(dicts)\n",
    "y_pred = lr.predict(X_val)"
   ]
  },
  {
   "cell_type": "code",
   "execution_count": 2,
   "id": "a9b7ea0e",
   "metadata": {},
   "outputs": [
    {
     "name": "stdout",
     "output_type": "stream",
     "text": [
      "Mean duration 16.191691679979066\n"
     ]
    }
   ],
   "source": [
    "print(f'Mean duration {y_pred.mean()}')"
   ]
  },
  {
   "cell_type": "markdown",
   "id": "4de37e40",
   "metadata": {},
   "source": [
    "## Q2."
   ]
  },
  {
   "cell_type": "code",
   "execution_count": 3,
   "id": "690a6023",
   "metadata": {},
   "outputs": [],
   "source": [
    "year, month = 2021, 2\n",
    "df['ride_id'] = f'{year:04d}/{month:02d}_' + df.index.astype('str')\n",
    "\n",
    "df_result = pd.DataFrame()\n",
    "df_result['ride_id'] = df['ride_id']\n",
    "df_result['predicted_duration'] = y_pred\n",
    "\n",
    "output_file = \"results_df.parquet\"\n",
    "df_result.to_parquet(\n",
    "    output_file,\n",
    "    engine='pyarrow',\n",
    "    compression=None,\n",
    "    index=False\n",
    ")"
   ]
  },
  {
   "cell_type": "code",
   "execution_count": 1,
   "id": "2e1251eb",
   "metadata": {},
   "outputs": [
    {
     "name": "stdout",
     "output_type": "stream",
     "text": [
      "19M\tresults_df.parquet\r\n"
     ]
    }
   ],
   "source": [
    "! du -h results_df.parquet"
   ]
  },
  {
   "cell_type": "markdown",
   "id": "26be7f9b",
   "metadata": {},
   "source": [
    "## Q3."
   ]
  },
  {
   "cell_type": "code",
   "execution_count": 2,
   "id": "5bc52c18",
   "metadata": {},
   "outputs": [
    {
     "name": "stdout",
     "output_type": "stream",
     "text": [
      "[NbConvertApp] Converting notebook starter.ipynb to script\n",
      "[NbConvertApp] Writing 1220 bytes to starter.py\n"
     ]
    }
   ],
   "source": [
    "! jupyter nbconvert --to script 'starter.ipynb'"
   ]
  },
  {
   "cell_type": "code",
   "execution_count": 3,
   "id": "0445c988",
   "metadata": {},
   "outputs": [
    {
     "name": "stdout",
     "output_type": "stream",
     "text": [
      "starter.py\r\n"
     ]
    }
   ],
   "source": [
    "! ls starter.py"
   ]
  },
  {
   "cell_type": "markdown",
   "id": "c14319fe",
   "metadata": {},
   "source": [
    "## Q4."
   ]
  },
  {
   "cell_type": "code",
   "execution_count": 5,
   "id": "df1e7722",
   "metadata": {},
   "outputs": [
    {
     "name": "stdout",
     "output_type": "stream",
     "text": [
      "The scikit-learn version is 1.0.2.\n"
     ]
    }
   ],
   "source": [
    "import sklearn\n",
    "print('The scikit-learn version is {}.'.format(sklearn.__version__))"
   ]
  },
  {
   "cell_type": "markdown",
   "id": "2c782b86",
   "metadata": {},
   "source": [
    "``` pipenv install scikit-learn==1.0.2 pandas pyarrow --python=3.9 ```"
   ]
  },
  {
   "cell_type": "code",
   "execution_count": 19,
   "id": "f62bd3b2",
   "metadata": {},
   "outputs": [
    {
     "data": {
      "text/plain": [
       "'sha256:08ef968f6b72033c16c479c966bf37ccd49b06ea91b765e1cc27afefe723920b'"
      ]
     },
     "execution_count": 19,
     "metadata": {},
     "output_type": "execute_result"
    }
   ],
   "source": [
    "import json\n",
    "  \n",
    "# reading the data from the file\n",
    "with open('Pipfile.lock') as f:\n",
    "    data = f.read()\n",
    "data = json.loads(data)\n",
    "data[\"default\"][\"scikit-learn\"]['hashes'][0]"
   ]
  },
  {
   "cell_type": "markdown",
   "id": "2fa79150",
   "metadata": {},
   "source": [
    "## Q5."
   ]
  },
  {
   "cell_type": "markdown",
   "id": "cc98231e",
   "metadata": {},
   "source": [
    "``` pipenv shell ``` was run"
   ]
  },
  {
   "cell_type": "code",
   "execution_count": 15,
   "id": "16440bc1",
   "metadata": {},
   "outputs": [
    {
     "name": "stdout",
     "output_type": "stream",
     "text": [
      "Mean Prediction: 16.298821614015107\r\n"
     ]
    }
   ],
   "source": [
    "! python starter.py 2021 3"
   ]
  },
  {
   "cell_type": "markdown",
   "id": "a5843fca",
   "metadata": {},
   "source": [
    "## Q6."
   ]
  },
  {
   "cell_type": "markdown",
   "id": "b0bb87be",
   "metadata": {},
   "source": [
    "Mean Prediction: ***9.967573179784523***"
   ]
  },
  {
   "cell_type": "code",
   "execution_count": null,
   "id": "c3742a0c",
   "metadata": {},
   "outputs": [],
   "source": []
  }
 ],
 "metadata": {
  "kernelspec": {
   "display_name": "Python 3 (ipykernel)",
   "language": "python",
   "name": "python3"
  },
  "language_info": {
   "codemirror_mode": {
    "name": "ipython",
    "version": 3
   },
   "file_extension": ".py",
   "mimetype": "text/x-python",
   "name": "python",
   "nbconvert_exporter": "python",
   "pygments_lexer": "ipython3",
   "version": "3.9.12"
  }
 },
 "nbformat": 4,
 "nbformat_minor": 5
}
